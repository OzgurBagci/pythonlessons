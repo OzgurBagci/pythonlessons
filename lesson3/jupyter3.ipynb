{
 "cells": [
  {
   "cell_type": "markdown",
   "metadata": {},
   "source": [
    "### Class yapilari\n",
    "Classlar belli veri tipleri alan objeler olusturup onlari olusturdugumuz metodlarla manipule etmeyi saglayan yapilardir. Ayrica operator overloadinge imkan tanirlar. Takim halinde calisirken implementasyonu classlarin ardina gizleyip diger developerlara basit bir arayuz sunmamizi saglarlar."
   ]
  },
  {
   "cell_type": "code",
   "execution_count": 20,
   "metadata": {},
   "outputs": [
    {
     "name": "stdout",
     "output_type": "stream",
     "text": [
      "<__main__.cartesian object at 0x000001CD9B210C50>\n",
      "True\n",
      "False\n",
      "1.25\n",
      "4 5\n"
     ]
    },
    {
     "ename": "AttributeError",
     "evalue": "type object 'cartesian' has no attribute '__x'",
     "output_type": "error",
     "traceback": [
      "\u001b[1;31m---------------------------------------------------------------------------\u001b[0m",
      "\u001b[1;31mAttributeError\u001b[0m                            Traceback (most recent call last)",
      "\u001b[1;32m<ipython-input-20-68d9c1d256e5>\u001b[0m in \u001b[0;36m<module>\u001b[1;34m()\u001b[0m\n\u001b[0;32m     26\u001b[0m \u001b[0mprint\u001b[0m\u001b[1;33m(\u001b[0m\u001b[0mcartesian2\u001b[0m\u001b[1;33m.\u001b[0m\u001b[0mslope\u001b[0m\u001b[1;33m(\u001b[0m\u001b[1;33m)\u001b[0m\u001b[1;33m)\u001b[0m\u001b[1;33m\u001b[0m\u001b[0m\n\u001b[0;32m     27\u001b[0m \u001b[0mprint\u001b[0m\u001b[1;33m(\u001b[0m\u001b[0mcartesian2\u001b[0m\u001b[1;33m.\u001b[0m\u001b[0mgetX\u001b[0m\u001b[1;33m(\u001b[0m\u001b[1;33m)\u001b[0m\u001b[1;33m,\u001b[0m \u001b[0mcartesian2\u001b[0m\u001b[1;33m.\u001b[0m\u001b[0my\u001b[0m\u001b[1;33m)\u001b[0m\u001b[1;33m\u001b[0m\u001b[0m\n\u001b[1;32m---> 28\u001b[1;33m \u001b[0mprint\u001b[0m\u001b[1;33m(\u001b[0m\u001b[0mcartesian\u001b[0m\u001b[1;33m.\u001b[0m\u001b[0m__x\u001b[0m\u001b[1;33m,\u001b[0m \u001b[0mcartesian\u001b[0m\u001b[1;33m.\u001b[0m\u001b[0my\u001b[0m\u001b[1;33m)\u001b[0m\u001b[1;33m\u001b[0m\u001b[0m\n\u001b[0m",
      "\u001b[1;31mAttributeError\u001b[0m: type object 'cartesian' has no attribute '__x'"
     ]
    }
   ],
   "source": [
    "class cartesian:\n",
    "    __x = 0\n",
    "    y = 0\n",
    "    def __init__(self, x, y):\n",
    "        self.__x = x\n",
    "        self.y = y\n",
    "    def slope(self):\n",
    "        return self.y / self.__x\n",
    "    def getX(self):\n",
    "        return self.__x\n",
    "    def __add__(self, other):\n",
    "        self.__x += other.getX()\n",
    "        self.y += other.y\n",
    "    def __eq__(self, other):\n",
    "        if self.__x == other.getX() and self.y == other.y:\n",
    "            return True\n",
    "        else:\n",
    "            return False\n",
    "\n",
    "cartesian1= cartesian(3, 4)\n",
    "cartesian2 = cartesian(3, 4)\n",
    "print(cartesian1)\n",
    "print(cartesian1 == cartesian2)\n",
    "cartesian2 = cartesian(4, 5)\n",
    "print(cartesian2 == cartesian1)\n",
    "print(cartesian2.slope())\n",
    "print(cartesian2.getX(), cartesian2.y)\n",
    "print(cartesian.__x, cartesian.y)"
   ]
  },
  {
   "cell_type": "code",
   "execution_count": 19,
   "metadata": {},
   "outputs": [
    {
     "name": "stdout",
     "output_type": "stream",
     "text": [
      "(7, 9)\n"
     ]
    }
   ],
   "source": [
    "class cartesian:\n",
    "    __x = 0\n",
    "    y = 0\n",
    "    def __init__(self, x, y):\n",
    "        self.__x = x\n",
    "        self.y = y\n",
    "    def slope(self):\n",
    "        return self.y / self.__x\n",
    "    def getX(self):\n",
    "        return self.__x\n",
    "    def __add__(self, other):\n",
    "        return cartesian(self.__x + other.getX(), self.y + other.y)\n",
    "    def __eq__(self, other):\n",
    "        if self.__x == other.getX() and self.y == other.y:\n",
    "            return True\n",
    "        else:\n",
    "            return False\n",
    "    def __str__(self):\n",
    "        return str((self.__x, self.y))\n",
    "\n",
    "cartesian1= cartesian(3, 4)\n",
    "cartesian2 = cartesian(4, 5)\n",
    "cartesian3 = cartesian1 + cartesian2\n",
    "print(cartesian3)"
   ]
  },
  {
   "cell_type": "code",
   "execution_count": 21,
   "metadata": {},
   "outputs": [
    {
     "name": "stdout",
     "output_type": "stream",
     "text": [
      "(7, 9)\n"
     ]
    }
   ],
   "source": [
    "class cartesian:\n",
    "    __x = 0\n",
    "    __y = 0\n",
    "    def __init__(self, x, y):\n",
    "        self.__x = x\n",
    "        self.__y = y\n",
    "    def slope(self):\n",
    "        return self.__y / self.__x\n",
    "    def getX(self):\n",
    "        return self.__x\n",
    "    def getY(self):\n",
    "        return self.__y\n",
    "    def __add__(self, other):\n",
    "        return cartesian(self.__x + other.getX(), self.__y + other.getY())\n",
    "    def __eq__(self, other):\n",
    "        if self.__x == other.getX() and self.__y == other.getY():\n",
    "            return True\n",
    "        else:\n",
    "            return False\n",
    "    def __str__(self):\n",
    "        return str((self.__x, self.__y))\n",
    "\n",
    "cartesian1= cartesian(3, 4)\n",
    "cartesian2 = cartesian(4, 5)\n",
    "cartesian3 = cartesian1 + cartesian2\n",
    "print(cartesian3)"
   ]
  },
  {
   "cell_type": "code",
   "execution_count": 25,
   "metadata": {},
   "outputs": [
    {
     "name": "stdout",
     "output_type": "stream",
     "text": [
      "True\n"
     ]
    }
   ],
   "source": [
    "class cartesian:\n",
    "    __x = 0\n",
    "    __y = 0\n",
    "    def __init__(self, x, y):\n",
    "        self.__x = x\n",
    "        self.__y = y\n",
    "    def slope(self):\n",
    "        return self.__y / self.__x\n",
    "    def getX(self):\n",
    "        return self.__x\n",
    "    def getY(self):\n",
    "        return self.__y\n",
    "    def __add__(self, other):\n",
    "        return cartesian(self.__x + other.getX(), self.__y + other.getY())\n",
    "    def __eq__(self, other):\n",
    "        if self.__x == other.getX() and self.__y == other.getY():\n",
    "            return True\n",
    "        else:\n",
    "            return False\n",
    "    def __str__(self):\n",
    "        return str((self.__x, self.__y))\n",
    "    def __lt__(self, other):\n",
    "        if self.__x * self.__x + self.__y * self.__y < other.getX() * other.getX() + other.getY() * other.getY():\n",
    "            return True\n",
    "        else:\n",
    "            return False\n",
    "\n",
    "cartesian1= cartesian(3, 4)\n",
    "cartesian2 = cartesian(4, 4)\n",
    "print(cartesian1 < cartesian2)"
   ]
  },
  {
   "cell_type": "markdown",
   "metadata": {},
   "source": [
    "    __eq__ = equals to (esittir)\n",
    "    __lt__ = less than (kucuktur)\n",
    "    __le__ = less than or equals to (kucuk esittir)\n",
    "    __ne__ = not equals to (esit degildir)\n",
    "    __gt__ = greater than (buyuktur)\n",
    "    __ge__ = greater than or equals to (buyuk esittir)\n",
    "Operator overloading yapabilecegimiz fonksiyonlar : https://docs.python.org/3/reference/datamodel.html#special-method-names"
   ]
  },
  {
   "cell_type": "markdown",
   "metadata": {},
   "source": [
    "### Inheritance\n",
    "Bazen classlardaki bazi degiskenleri o kadar cok ayni seye atariz ki bir subclass olusturmak daha mantikli olmaya baslar. Gelin once bir Pet classi olusturup daha sonra Dog subclassi olusturarak turu kopege esitleyelim:"
   ]
  },
  {
   "cell_type": "code",
   "execution_count": 29,
   "metadata": {},
   "outputs": [
    {
     "name": "stdout",
     "output_type": "stream",
     "text": [
      "Karabas: Kopecik\n"
     ]
    }
   ],
   "source": [
    "class Pet(object):\n",
    "    __name = ''\n",
    "    __species = ''\n",
    "    def __init__(self, name, species):\n",
    "        self.__name = name\n",
    "        self.__species = species\n",
    "    def getName(self):\n",
    "        return self.__name\n",
    "    def __str__(self):\n",
    "        return str(self.__name + ': ' + self.__species)\n",
    "\n",
    "myDog = Pet('Karabas', 'Kopecik')\n",
    "print(myDog)"
   ]
  },
  {
   "cell_type": "code",
   "execution_count": 33,
   "metadata": {},
   "outputs": [
    {
     "name": "stdout",
     "output_type": "stream",
     "text": [
      "Karabas: Kopek\n"
     ]
    }
   ],
   "source": [
    "class Pet(object):\n",
    "    __name = ''\n",
    "    __species = ''\n",
    "    def __init__(self, name, species):\n",
    "        self.__name = name\n",
    "        self.__species = species\n",
    "    def getName(self):\n",
    "        return self.__name\n",
    "    def __str__(self):\n",
    "        return str(self.__name + ': ' + self.__species)\n",
    "    \n",
    "class Dog(Pet):\n",
    "    def __init__(self, name):\n",
    "        Pet.__init__(self, name, 'Kopek')\n",
    "        \n",
    "myDog = Dog('Karabas')\n",
    "print(myDog)"
   ]
  },
  {
   "cell_type": "code",
   "execution_count": null,
   "metadata": {
    "collapsed": true
   },
   "outputs": [],
   "source": []
  }
 ],
 "metadata": {
  "kernelspec": {
   "display_name": "Python 3",
   "language": "python",
   "name": "python3"
  },
  "language_info": {
   "codemirror_mode": {
    "name": "ipython",
    "version": 3
   },
   "file_extension": ".py",
   "mimetype": "text/x-python",
   "name": "python",
   "nbconvert_exporter": "python",
   "pygments_lexer": "ipython3",
   "version": "3.6.3"
  }
 },
 "nbformat": 4,
 "nbformat_minor": 2
}
