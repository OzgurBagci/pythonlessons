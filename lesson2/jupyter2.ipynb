{
 "cells": [
  {
   "cell_type": "markdown",
   "metadata": {},
   "source": [
    "### Looplara Giris\n",
    "Oncelikle klavyemde Turkce karakter olmadigi icin bu sekilde yazmak zorunda kaldigimi belirteyim.\n",
    "    \n",
    "Looplari anlatmadan once looplara neden ihtiyac duydugumuzu anlatmak isterim. Mesela su ana kadar ogrendiklerimizle kullanicidan 10 tane input alip bunlarin ortalamasini hesaplayalim ve bunu standart outputa basalim:"
   ]
  },
  {
   "cell_type": "code",
   "execution_count": 1,
   "metadata": {},
   "outputs": [
    {
     "name": "stdout",
     "output_type": "stream",
     "text": [
      "Data 1: 20\n",
      "Data 2: 10\n",
      "Data 3: 20\n",
      "Data 4: 10\n",
      "Data 5: 20\n",
      "Data 6: 10\n",
      "Data 7: 20\n",
      "Data 8: 10\n",
      "Data 9: 20\n",
      "Data 10: 10\n",
      "15.0\n"
     ]
    }
   ],
   "source": [
    "input1 = int(input(\"Data 1: \"))\n",
    "input2 = int(input(\"Data 2: \"))\n",
    "input3 = int(input(\"Data 3: \"))\n",
    "input4 = int(input(\"Data 4: \"))\n",
    "input5 = int(input(\"Data 5: \"))\n",
    "input6 = int(input(\"Data 6: \"))\n",
    "input7 = int(input(\"Data 7: \"))\n",
    "input8 = int(input(\"Data 8: \"))\n",
    "input9 = int(input(\"Data 9: \"))\n",
    "input10 = int(input(\"Data 10: \"))\n",
    "print((input1 + input2 + input3 + input4 + input5 + input6 + input7 + input8 + input9 + input10) / 10)"
   ]
  },
  {
   "cell_type": "markdown",
   "metadata": {},
   "source": [
    "Bunu yapmanin daha kolay bir yolu olmasaydi programlama kopyala yapistirdan ibaret hale gelirdi. Biz bunu kolaylastirmak icin looplari yani donguleri kullaniyoruz. Python'da anlatacagimiz 2 loop var. Bunlar for ve while looplar. Gelin yukaridaki kodu iki loopu da ayri ayri kullanarak yazalim. Ilk olarak while loop ile baslayalim:"
   ]
  },
  {
   "cell_type": "code",
   "execution_count": 2,
   "metadata": {},
   "outputs": [
    {
     "name": "stdout",
     "output_type": "stream",
     "text": [
      "Data 1: 20\n",
      "Data 2: 10\n",
      "Data 3: 20\n",
      "Data 4: 10\n",
      "Data 5: 20\n",
      "Data 6: 10\n",
      "Data 7: 20\n",
      "Data 8: 10\n",
      "Data 9: 20\n",
      "Data 10: 10\n",
      "15.0\n"
     ]
    }
   ],
   "source": [
    "i = 0\n",
    "inputList = []\n",
    "while i < 10:\n",
    "    inputList.append(int(input('Data ' + str(i + 1) + ': ')))\n",
    "    i += 1\n",
    "i = 0\n",
    "total = 0\n",
    "while i < 10:\n",
    "    total += inputList[i]\n",
    "    i += 1\n",
    "print(total / 10)"
   ]
  },
  {
   "cell_type": "markdown",
   "metadata": {},
   "source": [
    "Gordugunuz gibi daha kolaylasti. Aslinda suan satir olarak pek bir fark yok ama 1000 input almamiz gerektigini dusunelim. Tabii 1000 inputu dosyadan okumak daha mantikli ama simdilik oraya girmiyorum. 1000 input aldigimizda while loopta \"i < 10\"lari \"i < 1000\" yapmamiz yeterli olurdu. Ama ustteki kod 1000 satirdan uzun olurdu ve ayni seylerin tekrarindan olusurdu."
   ]
  },
  {
   "cell_type": "markdown",
   "metadata": {},
   "source": [
    "Simdi de aynisini for loopla yapalim:"
   ]
  },
  {
   "cell_type": "code",
   "execution_count": 3,
   "metadata": {},
   "outputs": [
    {
     "name": "stdout",
     "output_type": "stream",
     "text": [
      "Data 1: 20\n",
      "Data 2: 10\n",
      "Data 3: 20\n",
      "Data 4: 10\n",
      "Data 5: 20\n",
      "Data 6: 10\n",
      "Data 7: 20\n",
      "Data 8: 10\n",
      "Data 9: 20\n",
      "Data 10: 10\n",
      "15.0\n"
     ]
    }
   ],
   "source": [
    "total = 0\n",
    "for i in range(10):\n",
    "    total += int(input('Data ' + str(i + 1) + ': '))\n",
    "print(total / 10)"
   ]
  },
  {
   "cell_type": "markdown",
   "metadata": {},
   "source": [
    "Bu sefer yukaridaki gibi liste olusturup ikinci bir loop yapmaktansa direkt olarak total'e ekleme yaptim. Yukaridaki liste olusturma islemini, yaygin kullanilan bir islem oldugu icin, gosterme amaciyla yapmistim. While loopta da direkt olarak totale ekleme yaparak tek loopla isi halledebilirdik."
   ]
  },
  {
   "cell_type": "markdown",
   "metadata": {},
   "source": [
    "### Functionlar\n",
    "Peki herseyi boyle her seferinde satir satir mi yazmak zorundayiz. Yani bir kod olusturup onu ihtiyacimiz oldugunda cagirma ihtimalimiz yok mu? Tabii ki var. Fonksiyon tanimlayarak bu islemi yapabiliriz. Ancak fonksiyon tanimlarken genel amacli ve en az 2 ya da 3 kez kullanilacak kodlari fonksiyona cevirmemiz gerektigini belirteyim. Eger boyle bir durum yoksa fonksiyon tanimlamanin tek anlami ilerideki potansiyel kullanimlari garakti altina almak olur. Gelin simdi bir liste alip o listedeki elemanlarin ortalamasini hesaplayan bir fonksiyon tanimlayalim:"
   ]
  },
  {
   "cell_type": "code",
   "execution_count": 4,
   "metadata": {},
   "outputs": [
    {
     "name": "stdout",
     "output_type": "stream",
     "text": [
      "15.444444444444445 46.375\n"
     ]
    }
   ],
   "source": [
    "def average(myList):\n",
    "    total = 0\n",
    "    for i in myList:\n",
    "        total += i\n",
    "    return total / len(myList)\n",
    "\n",
    "avg1 = average([10, 12, 15, 22, 17, 14, 15, 16, 18])\n",
    "avg2 = average([55, 44, 22, 11, 55, 65, 76, 88, 11, 45, 66, 21, 55, 11, 18, 99])\n",
    "print(avg1, avg2)"
   ]
  },
  {
   "cell_type": "markdown",
   "metadata": {},
   "source": [
    "### Ornekler\n",
    "Simdi gelin ogrendiklerimizle 2 ornek cozup konuyu bitirelim."
   ]
  },
  {
   "cell_type": "markdown",
   "metadata": {},
   "source": [
    "Ilk ornegimiz kullanicidan boslukla ayrilmis 2 sayiyi input olarak alip bunlari kartezyen duzlemdeki x ve y olarak dusunerek egimi hesaplamak. Hesapladigimiz bu egimi kullanarak bircok noktayi input olarak alip bu noktalari kesmek icin orijinden kac dogru cekmemiz gerektigini bulalim:"
   ]
  },
  {
   "cell_type": "code",
   "execution_count": 9,
   "metadata": {},
   "outputs": [
    {
     "name": "stdout",
     "output_type": "stream",
     "text": [
      "Nokta 1: 5 6\n",
      "Nokta 2: 6 7\n",
      "Nokta 3: 7 8\n",
      "Nokta 4: 8 9\n",
      "Nokta 5: 9 10\n",
      "[1.2, 1.1666666666666667, 1.1428571428571428, 1.125, 1.1111111111111112]\n",
      "1.2 1.1666666666666667\n",
      "1.2 1.1428571428571428\n",
      "1.2 1.125\n",
      "1.2 1.1111111111111112\n",
      "1.1666666666666667 1.1428571428571428\n",
      "1.1666666666666667 1.125\n",
      "1.1666666666666667 1.1111111111111112\n",
      "1.1428571428571428 1.125\n",
      "1.1428571428571428 1.1111111111111112\n",
      "1.125 1.1111111111111112\n",
      "5\n"
     ]
    }
   ],
   "source": [
    "noktalar = []\n",
    "for i in range(5):\n",
    "  myInput = input('Nokta ' + str(i + 1) + ': ')\n",
    "  myInput = myInput.split(' ')\n",
    "  noktalar.append(myInput)\n",
    "  \n",
    "def egim(noktalar):\n",
    "  egimler = []\n",
    "  for i in noktalar:\n",
    "    egim = int(i[1]) / int(i[0])\n",
    "    egimler.append(egim)\n",
    "  return egimler\n",
    "  \n",
    "def dogruSayisi(egimler):\n",
    "  esit = 0\n",
    "  for i in range(len(egimler)):\n",
    "    for j in range(i + 1, len(egimler)):\n",
    "      print(egimler[i], egimler[j])\n",
    "      if egimler[i] == egimler[j]:\n",
    "        esit += 1\n",
    "        break\n",
    "  return len(egimler) - esit\n",
    "\n",
    "print(egim(noktalar))\n",
    "print(dogruSayisi(egim(noktalar)))"
   ]
  },
  {
   "cell_type": "markdown",
   "metadata": {},
   "source": [
    "Simdi de bir matrix uzerinde ilerleyen bir robot kodlayalim. Robot her engelle karsilastiginda sola donuyor. Matrixin koseleri de engel kabul ediliyor. Boyle buyrun:"
   ]
  },
  {
   "cell_type": "code",
   "execution_count": 5,
   "metadata": {},
   "outputs": [
    {
     "name": "stdout",
     "output_type": "stream",
     "text": [
      "((2, 0), 'G')\n"
     ]
    }
   ],
   "source": [
    "l = [[True, False, True, True], \\\n",
    "[False, True, True, False], \\\n",
    "[True, True, True, True], \\\n",
    "[False, False, True, True]]\n",
    "\n",
    "def hareket(myList, konum, yon):\n",
    "  if yon == 'K':\n",
    "    if konum[0] != 0 and myList[konum[0]-1][konum[1]]:\n",
    "      return ((konum[0]-1, konum[1]), 'K')\n",
    "    else:\n",
    "      return (konum[0], konum[1]), 'B'\n",
    "      \n",
    "  \n",
    "  elif yon == 'G':\n",
    "    if konum[0] != len(myList) - 1 and myList[konum[0]+1][konum[1]]:\n",
    "      return ((konum[0]+1, konum[1]), 'G')\n",
    "    else:\n",
    "      return (konum[0], konum[1]), 'D'\n",
    "    \n",
    "  elif yon == 'B':\n",
    "    if konum[1] != 0 and myList[konum[0]][konum[1]-1]:\n",
    "      return ((konum[0], konum[1]-1), 'B')\n",
    "    else:\n",
    "      return (konum[0], konum[1]), 'G'\n",
    "    \n",
    "  elif yon == 'D':\n",
    "    if konum[1] != len(myList) - 1 and myList[konum[0]][konum[1]+1]:\n",
    "      return ((konum[0], konum[1]+1), 'D')\n",
    "    else:\n",
    "      return (konum[0], konum[1]), 'K'\n",
    "      \n",
    "myHareket = hareket(l, (2, 3), 'K')\n",
    "for i in range(254):\n",
    "  myHareket = hareket(l, myHareket[0], myHareket[1])\n",
    "print(myHareket)"
   ]
  },
  {
   "cell_type": "markdown",
   "metadata": {},
   "source": [
    "# Kapanis\n",
    "Dersimiz burada bitiyor. Umarim anlattiklarim anlasilabilmistir. Anlamadiginiz herhangi yer olursa email adresimden her zaman iletisim kurabilirsiniz. Elimden geldigince yardimci olmaya calisirim."
   ]
  },
  {
   "cell_type": "code",
   "execution_count": null,
   "metadata": {
    "collapsed": true
   },
   "outputs": [],
   "source": []
  }
 ],
 "metadata": {
  "kernelspec": {
   "display_name": "Python 3",
   "language": "python",
   "name": "python3"
  },
  "language_info": {
   "codemirror_mode": {
    "name": "ipython",
    "version": 3
   },
   "file_extension": ".py",
   "mimetype": "text/x-python",
   "name": "python",
   "nbconvert_exporter": "python",
   "pygments_lexer": "ipython3",
   "version": "3.6.3"
  }
 },
 "nbformat": 4,
 "nbformat_minor": 2
}
